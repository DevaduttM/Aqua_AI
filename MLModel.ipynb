{
 "cells": [
  {
   "cell_type": "code",
   "execution_count": 1,
   "id": "18b2a929-c8f1-4a56-9e4f-552db6b8f741",
   "metadata": {},
   "outputs": [],
   "source": [
    "import pandas as pd\n",
    "import numpy as np"
   ]
  },
  {
   "cell_type": "code",
   "execution_count": 2,
   "id": "a6fac543-8e64-479f-bbd4-beec23164ad3",
   "metadata": {},
   "outputs": [],
   "source": [
    "from sklearn.model_selection import train_test_split\n",
    "from sklearn.linear_model import LogisticRegression"
   ]
  },
  {
   "cell_type": "code",
   "execution_count": 28,
   "id": "bada93b0-30ee-4723-b4b4-afafdb2ef880",
   "metadata": {},
   "outputs": [],
   "source": [
    "df = pd.read_csv(\"Water_Quality_Testing(in).csv\")"
   ]
  },
  {
   "cell_type": "code",
   "execution_count": 29,
   "id": "303c3551-cfee-4269-9b48-4d46fe6f331d",
   "metadata": {},
   "outputs": [],
   "source": [
    "y = np.array(df['Safe'])\n",
    "X = np.array(df.drop(columns = 'Safe'))\n"
   ]
  },
  {
   "cell_type": "code",
   "execution_count": 30,
   "id": "aa6694ce-a65a-4f33-95d1-a7e7ef3f0788",
   "metadata": {},
   "outputs": [],
   "source": [
    "X_train, X_test, y_train, y_test = train_test_split(X, y, test_size = 0.1, random_state = 0)"
   ]
  },
  {
   "cell_type": "code",
   "execution_count": 31,
   "id": "ea1068a5-4a2f-4eae-8935-a3757b766713",
   "metadata": {},
   "outputs": [],
   "source": [
    "log_reg = LogisticRegression(random_state = 0, C = 1, max_iter = 1000).fit(X_train, y_train)"
   ]
  },
  {
   "cell_type": "code",
   "execution_count": 40,
   "id": "48f619cf-53f0-4a31-b37a-9d3ea6116b32",
   "metadata": {},
   "outputs": [],
   "source": [
    "input = [[1.23, 2.34, 3.45, 4.56, 5.67, 6.78]]"
   ]
  },
  {
   "cell_type": "code",
   "execution_count": 41,
   "id": "fc723bcc-1c7a-4340-97cb-ed5a826faae3",
   "metadata": {},
   "outputs": [
    {
     "data": {
      "text/plain": [
       "array([1], dtype=int64)"
      ]
     },
     "execution_count": 41,
     "metadata": {},
     "output_type": "execute_result"
    }
   ],
   "source": [
    "log_reg.predict(input)"
   ]
  },
  {
   "cell_type": "code",
   "execution_count": 38,
   "id": "b5abc0b3-ea26-493b-bdc8-9ac657e1b3a5",
   "metadata": {},
   "outputs": [],
   "source": [
    "score = log_reg.score(X_test, y_test)"
   ]
  },
  {
   "cell_type": "code",
   "execution_count": 42,
   "id": "af25e69f-6740-4c03-b6ec-2cb410a7961a",
   "metadata": {},
   "outputs": [
    {
     "data": {
      "text/plain": [
       "array([[0., 1.]])"
      ]
     },
     "execution_count": 42,
     "metadata": {},
     "output_type": "execute_result"
    }
   ],
   "source": [
    "conf = log_reg.predict_proba(input)\n",
    "conf"
   ]
  }
 ],
 "metadata": {
  "kernelspec": {
   "display_name": "Python 3 (ipykernel)",
   "language": "python",
   "name": "python3"
  },
  "language_info": {
   "codemirror_mode": {
    "name": "ipython",
    "version": 3
   },
   "file_extension": ".py",
   "mimetype": "text/x-python",
   "name": "python",
   "nbconvert_exporter": "python",
   "pygments_lexer": "ipython3",
   "version": "3.10.11"
  }
 },
 "nbformat": 4,
 "nbformat_minor": 5
}
